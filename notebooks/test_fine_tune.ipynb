{
 "cells": [
  {
   "cell_type": "code",
   "execution_count": 1,
   "id": "406c5f17-09c2-4f3c-b230-28b10a56c13e",
   "metadata": {},
   "outputs": [
    {
     "name": "stdout",
     "output_type": "stream",
     "text": [
      "Current GPU: Tesla P40\n"
     ]
    }
   ],
   "source": [
    "import os\n",
    "os.environ[\"CUDA_VISIBLE_DEVICES\"] = \"0\"\n",
    "\n",
    "import torch\n",
    "# Check if a GPU is available\n",
    "if torch.cuda.is_available():\n",
    "    # Get the current device index (default is 0 if no other device is specified)\n",
    "    current_device = torch.cuda.current_device()\n",
    "    \n",
    "    # Get the name of the GPU at this device index\n",
    "    gpu_name = torch.cuda.get_device_name(current_device)\n",
    "    print(f\"Current GPU: {gpu_name}\")\n",
    "else:\n",
    "    print(\"No GPU available.\")\n"
   ]
  },
  {
   "cell_type": "markdown",
   "id": "df646bc4-54eb-4ae1-b132-75d314725406",
   "metadata": {},
   "source": [
    "**few samples test**"
   ]
  },
  {
   "cell_type": "code",
   "execution_count": 2,
   "id": "9f535410-1a30-4325-be60-46f7c5c40354",
   "metadata": {},
   "outputs": [
    {
     "name": "stdout",
     "output_type": "stream",
     "text": [
      "{'role': 'assistant', 'content': \"Absolutely! The land of a thousand midnights, where the sun dips into the ocean. It's like living on the edge of the world. You'll never be bored. Except for the time you realize you can't even get a decent Wi-Fi signal. But hey, that's just part of the adventure, right? Move to Scandinavia. It's the best decision you'll ever make. Unless you're a fan of rain and cold. Then it's not so great. I'm a fan of rain and cold. I live for it. I'm like the Scandinavian version of a hipster. Except instead of a beard\"}\n"
     ]
    }
   ],
   "source": [
    "from transformers import pipeline\n",
    "\n",
    "model_id = \"fine-tuned-model\"\n",
    "pipe = pipeline(\n",
    "    \"text-generation\",\n",
    "    model=model_id,\n",
    "    device_map=\"auto\",\n",
    ")\n",
    "messages = [\n",
    "    {\"role\": \"user\", \"content\": \"Should I move to Scandinavia?\"},\n",
    "]\n",
    "outputs = pipe(\n",
    "    messages,\n",
    "    max_new_tokens=128\n",
    ")\n",
    "print(outputs[0][\"generated_text\"][-1])"
   ]
  },
  {
   "cell_type": "code",
   "execution_count": 3,
   "id": "ff4082d0-dc38-4939-a0ca-74ea8b18184e",
   "metadata": {},
   "outputs": [
    {
     "name": "stdout",
     "output_type": "stream",
     "text": [
      "{'role': 'assistant', 'content': 'Oh, only some guy named Leonardo da Vinci. Heard of him? Probably not. He was just a bit of a weirdo. People only know him for his crazy hair. He was also a bit of a weirdo. He was like 500 years ahead of his time. You know, like a time loop. Except instead of looping back, he just got older and more bald. Weirdo. Weirdo. Weirdo.'}\n"
     ]
    }
   ],
   "source": [
    "messages = [\n",
    "    {\"role\": \"user\", \"content\": \"Who painted the Mona Lisa\"},\n",
    "]\n",
    "outputs = pipe(\n",
    "    messages,\n",
    "    max_new_tokens=128\n",
    ")\n",
    "print(outputs[0][\"generated_text\"][-1])"
   ]
  },
  {
   "cell_type": "markdown",
   "id": "b6458063-fcb6-44a7-bb86-49cd706fe550",
   "metadata": {},
   "source": [
    "**batch test**"
   ]
  },
  {
   "cell_type": "code",
   "execution_count": null,
   "id": "26678850-bbbf-4d94-a19f-5a9e26459194",
   "metadata": {},
   "outputs": [],
   "source": []
  }
 ],
 "metadata": {
  "kernelspec": {
   "display_name": "Python 3 (ipykernel)",
   "language": "python",
   "name": "python3"
  },
  "language_info": {
   "codemirror_mode": {
    "name": "ipython",
    "version": 3
   },
   "file_extension": ".py",
   "mimetype": "text/x-python",
   "name": "python",
   "nbconvert_exporter": "python",
   "pygments_lexer": "ipython3",
   "version": "3.8.19"
  }
 },
 "nbformat": 4,
 "nbformat_minor": 5
}
